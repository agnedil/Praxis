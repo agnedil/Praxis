{
 "cells": [
  {
   "cell_type": "markdown",
   "id": "4bb27177",
   "metadata": {},
   "source": [
    "# Evaluating Generated Code"
   ]
  },
  {
   "cell_type": "code",
   "execution_count": 1,
   "id": "5b59ff23-dd63-454b-a500-6547ddddd29a",
   "metadata": {},
   "outputs": [],
   "source": [
    "from human_eval.evaluation import evaluate_functional_correctness\n",
    "from human_eval.data import stream_jsonl\n",
    "%load_ext autoreload\n",
    "%autoreload 2"
   ]
  },
  {
   "cell_type": "code",
   "execution_count": 2,
   "id": "b343975c-87f7-4b1e-b262-be5417bd5037",
   "metadata": {},
   "outputs": [],
   "source": [
    "file_name = 'logs/solar_10B_samples_20250110_020727_0996.jsonl'"
   ]
  },
  {
   "cell_type": "code",
   "execution_count": 4,
   "id": "bc196922-99dd-4ebb-af3b-d53379731a63",
   "metadata": {},
   "outputs": [
    {
     "name": "stdout",
     "output_type": "stream",
     "text": [
      "Reading samples...\n"
     ]
    },
    {
     "name": "stderr",
     "output_type": "stream",
     "text": [
      "164it [00:00, 4935.89it/s]\n"
     ]
    },
    {
     "name": "stdout",
     "output_type": "stream",
     "text": [
      "Running test suites...\n"
     ]
    },
    {
     "name": "stderr",
     "output_type": "stream",
     "text": [
      "100%|██████████████████████████████████████████████████████| 164/164 [00:13<00:00, 12.26it/s]\n"
     ]
    },
    {
     "name": "stdout",
     "output_type": "stream",
     "text": [
      "Writing results to logs/solar_10B_samples_20250110_020727_0996.jsonl_results.jsonl...\n"
     ]
    },
    {
     "name": "stderr",
     "output_type": "stream",
     "text": [
      "100%|███████████████████████████████████████████████████| 164/164 [00:00<00:00, 74654.42it/s]\n"
     ]
    },
    {
     "data": {
      "text/plain": [
       "{'pass@1': 0.29878048780487804}"
      ]
     },
     "execution_count": 4,
     "metadata": {},
     "output_type": "execute_result"
    }
   ],
   "source": [
    "# :param mode:\n",
    "#        'human_eval_with_prompt' - using HumanEval dataset with problem[\"prompt\"] (func header & docstring) + completion;\n",
    "#        'human_eval' - using HumanEval dataset w/out problem[\"prompt\"] because the completion already includes func header;\n",
    "#        'mbpp' - using MBPP dataset.\n",
    "evaluate_functional_correctness(file_name, k=[1], mode='human_eval_with_prompt')"
   ]
  },
  {
   "cell_type": "code",
   "execution_count": null,
   "id": "fadb7709",
   "metadata": {},
   "outputs": [],
   "source": []
  },
  {
   "cell_type": "markdown",
   "id": "52e2e703",
   "metadata": {},
   "source": [
    "## Debug errors"
   ]
  },
  {
   "cell_type": "code",
   "execution_count": 6,
   "id": "e7601962",
   "metadata": {},
   "outputs": [
    {
     "data": {
      "text/plain": [
       "500"
      ]
     },
     "execution_count": 6,
     "metadata": {},
     "output_type": "execute_result"
    }
   ],
   "source": [
    "# load file with results for debugging\n",
    "results = list(stream_jsonl(file_name))\n",
    "len(results)"
   ]
  },
  {
   "cell_type": "code",
   "execution_count": null,
   "id": "d08b9258",
   "metadata": {},
   "outputs": [],
   "source": []
  }
 ],
 "metadata": {
  "kernelspec": {
   "display_name": "Python 3 (ipykernel)",
   "language": "python",
   "name": "python3"
  },
  "language_info": {
   "codemirror_mode": {
    "name": "ipython",
    "version": 3
   },
   "file_extension": ".py",
   "mimetype": "text/x-python",
   "name": "python",
   "nbconvert_exporter": "python",
   "pygments_lexer": "ipython3",
   "version": "3.10.10"
  }
 },
 "nbformat": 4,
 "nbformat_minor": 5
}
