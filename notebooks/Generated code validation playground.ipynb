{
 "cells": [
  {
   "cell_type": "markdown",
   "id": "22732f14",
   "metadata": {},
   "source": [
    "# Generated code validation"
   ]
  },
  {
   "cell_type": "markdown",
   "id": "7294f3a0",
   "metadata": {},
   "source": [
    "### Add to generated code validation"
   ]
  },
  {
   "cell_type": "code",
   "execution_count": 1,
   "id": "31908d00",
   "metadata": {},
   "outputs": [],
   "source": [
    "import re\n",
    "\n",
    "\n",
    "def remove_print_function_statements(s):\n",
    "    ''' Remove lines starting with \"print(function_name(\" '''\n",
    "    \n",
    "    # edge case\n",
    "    if not s:\n",
    "        return s\n",
    "       \n",
    "    # find function_name first\n",
    "    match = re.search(r'def\\s+(\\w+)\\(', s)\n",
    "    if match:\n",
    "        func_name = match.group(1)\n",
    "        pattern = re.compile(r'^\\s*print\\(\\s*' + re.escape(func_name) + r'\\(')    # matching \"print(function_name(\"\n",
    "    else:\n",
    "        pattern = None                                                            # no func found, no filtering\n",
    "\n",
    "    # if function_name found, remove lines starting with \"print(function_name(\"\"\n",
    "    code = '\\n'.join(\n",
    "        line for line in s.splitlines() \n",
    "        if not (pattern and pattern.match(line))\n",
    "    ).strip()\n",
    "\n",
    "    return code\n",
    "\n",
    "\n",
    "def clean_code(s):\n",
    "    '''\n",
    "    Clean code by:\n",
    "        * Extracting only code between \"```python\" and \"```\" code fences.\n",
    "          Other opening code fences include: \"```python3\", \"```Python\", or \"```Python3\".\n",
    "        * Remove any lines w/test cases starting with 'assert'\n",
    "        * Remove any lines w/test cases starting with \"print(function_name(\".\n",
    "    '''\n",
    "    \n",
    "    # edge cases\n",
    "    if not isinstance(s, str):\n",
    "        print('WARNING. Not a string passed for evaluation of generated code - returning an empty string')\n",
    "        return ''\n",
    "    if not s:\n",
    "        return s    \n",
    "    \n",
    "    # matching any of the four code fence options\n",
    "    fence_pattern = re.compile(r\"```(?:python3?|Python3?)\")\n",
    "    match = fence_pattern.search(s)    \n",
    "    if match:\n",
    "        fence = match.group(0)\n",
    "        _, _, remainder = s.partition(fence)        # extract text from end of fence to end of string\n",
    "        code, _, _ = remainder.partition(\"```\")     # keep only text before next triple backticks\n",
    "        code = code.strip()\n",
    "    else:\n",
    "        code = s.strip()\n",
    "    \n",
    "    # remove lines starting with 'assert'\n",
    "    code = \"\\n\".join(\n",
    "        line for line in code.splitlines() if not line.lstrip().startswith(\"assert\")\n",
    "    ).strip()\n",
    "    \n",
    "    # safeguard - verify if I always need it\n",
    "    #if \"from typing import *\" not in code:\n",
    "    #    code = \"from typing import *\\n\" + code\n",
    "    \n",
    "    return remove_print_function_statements(code)"
   ]
  },
  {
   "cell_type": "code",
   "execution_count": 6,
   "id": "6015d0bb",
   "metadata": {},
   "outputs": [],
   "source": [
    "s1 = '''\n",
    "Here is an improved solution:\n",
    "```Python3\n",
    "def get_res(s):\n",
    "    return s.upper()\n",
    "```\n",
    "'''\n",
    "\n",
    "s2 = '''\n",
    "The proposed solution is already correct. It defines a Python function named 'is_lower', which takes a string 's' as input and returns the string in lower case. The function uses the 'lower' method of the string class to achieve this. \n",
    "\n",
    "The proposed solution has already been optimally improved, eliminating redundancies and ensuring the code is runnable. Also, the output meets all the given requirements including, the correct implementation of the function, absence of extra text or symbols, and execution-ready code. No additional error corrections or improvements are needed as per your instruction. \n",
    "\n",
    "The proposed solution:\n",
    "\n",
    "```python\n",
    "def is_lower(s):\n",
    "    s = s[::-1]\n",
    "    return s.lower() \n",
    "\n",
    "assert is_lower(\"InValid\") == \"invalid\"\n",
    "assert is_lower(\"TruE\") == \"true\"\n",
    "assert is_lower(\"SenTenCE\") == \"sentence\"\n",
    "'''\n",
    "\n",
    "s3 = \"\"\"def check_value(dict, value):\n",
    "    return all(val == value for val in dict.values())\n",
    "\n",
    "print(check_value({'Cierra Vega': 12, 'Alden Cantrell': 12, 'Kierra Gentry': 12, 'Pierre Cox': 12},10))\n",
    "print(check_value({'Cierra Vega': 12, 'Alden Cantrell': 12, 'Kierra Gentry': 12, 'Pierre Cox': 12},12))\n",
    "print(check_value({'Cierra Vega': 12, 'Alden Cantrell': 12, 'Kierra Gentry': 12, 'Pierre Cox': 12},5))\n",
    "\"\"\""
   ]
  },
  {
   "cell_type": "code",
   "execution_count": 7,
   "id": "0478f82a",
   "metadata": {},
   "outputs": [
    {
     "name": "stdout",
     "output_type": "stream",
     "text": [
      "def get_res(s):\n",
      "    return s.upper() \n",
      "\n",
      "def is_lower(s):\n",
      "    s = s[::-1]\n",
      "    return s.lower() \n",
      "\n",
      "def check_value(dict, value):\n",
      "    return all(val == value for val in dict.values()) \n",
      "\n"
     ]
    }
   ],
   "source": [
    "for s in [s1, s2, s3]:\n",
    "    print(clean_code(s), '\\n')"
   ]
  },
  {
   "cell_type": "code",
   "execution_count": 7,
   "id": "5a0b5c0d",
   "metadata": {},
   "outputs": [],
   "source": []
  }
 ],
 "metadata": {
  "kernelspec": {
   "display_name": "Python 3 (ipykernel)",
   "language": "python",
   "name": "python3"
  },
  "language_info": {
   "codemirror_mode": {
    "name": "ipython",
    "version": 3
   },
   "file_extension": ".py",
   "mimetype": "text/x-python",
   "name": "python",
   "nbconvert_exporter": "python",
   "pygments_lexer": "ipython3",
   "version": "3.11.11"
  }
 },
 "nbformat": 4,
 "nbformat_minor": 5
}
