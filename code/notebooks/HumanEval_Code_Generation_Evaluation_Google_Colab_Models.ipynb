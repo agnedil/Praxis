{
 "cells": [
  {
   "cell_type": "markdown",
   "id": "4bb27177",
   "metadata": {},
   "source": [
    "# Code Generation and Evaluation"
   ]
  },
  {
   "cell_type": "code",
   "execution_count": 5,
   "id": "5b59ff23-dd63-454b-a500-6547ddddd29a",
   "metadata": {},
   "outputs": [
    {
     "name": "stdout",
     "output_type": "stream",
     "text": [
      "The autoreload extension is already loaded. To reload it, use:\n",
      "  %reload_ext autoreload\n"
     ]
    }
   ],
   "source": [
    "from human_eval.evaluation import evaluate_functional_correctness\n",
    "%load_ext autoreload\n",
    "%autoreload 2"
   ]
  },
  {
   "cell_type": "code",
   "execution_count": 6,
   "id": "b343975c-87f7-4b1e-b262-be5417bd5037",
   "metadata": {},
   "outputs": [],
   "source": [
    "file_name = 'logs/artigenz-coder-ds-6.7b_samples_20241226_092355_5467.jsonl'"
   ]
  },
  {
   "cell_type": "code",
   "execution_count": 12,
   "id": "bc196922-99dd-4ebb-af3b-d53379731a63",
   "metadata": {},
   "outputs": [
    {
     "name": "stdout",
     "output_type": "stream",
     "text": [
      "Reading samples...\n"
     ]
    },
    {
     "name": "stderr",
     "output_type": "stream",
     "text": [
      "164it [00:00, 4404.09it/s]\n"
     ]
    },
    {
     "name": "stdout",
     "output_type": "stream",
     "text": [
      "Running test suites...\n"
     ]
    },
    {
     "name": "stderr",
     "output_type": "stream",
     "text": [
      "100%|██████████████████████████████████████████████████████| 164/164 [00:10<00:00, 15.91it/s]\n"
     ]
    },
    {
     "name": "stdout",
     "output_type": "stream",
     "text": [
      "Writing results to logs/artigenz-coder-ds-6.7b_samples_20241226_092355_5467.jsonl_results.jsonl...\n"
     ]
    },
    {
     "name": "stderr",
     "output_type": "stream",
     "text": [
      "100%|███████████████████████████████████████████████████| 164/164 [00:00<00:00, 56591.19it/s]\n"
     ]
    },
    {
     "data": {
      "text/plain": [
       "{'pass@1': 0.012195121951219513}"
      ]
     },
     "execution_count": 12,
     "metadata": {},
     "output_type": "execute_result"
    }
   ],
   "source": [
    "# :param mode:\n",
    "#        'human_eval_with_prompt' - using HumanEval dataset with problem[\"prompt\"] (func header & docstring) + completion;\n",
    "#        'human_eval' - using HumanEval dataset w/out problem[\"prompt\"] because the completion already includes func header;\n",
    "#        'mbpp' - using MBPP dataset.\n",
    "evaluate_functional_correctness(file_name, k=[1], mode='human_eval')"
   ]
  },
  {
   "cell_type": "code",
   "execution_count": null,
   "id": "d08b9258",
   "metadata": {},
   "outputs": [],
   "source": []
  }
 ],
 "metadata": {
  "kernelspec": {
   "display_name": "Python 3 (ipykernel)",
   "language": "python",
   "name": "python3"
  },
  "language_info": {
   "codemirror_mode": {
    "name": "ipython",
    "version": 3
   },
   "file_extension": ".py",
   "mimetype": "text/x-python",
   "name": "python",
   "nbconvert_exporter": "python",
   "pygments_lexer": "ipython3",
   "version": "3.10.10"
  }
 },
 "nbformat": 4,
 "nbformat_minor": 5
}
